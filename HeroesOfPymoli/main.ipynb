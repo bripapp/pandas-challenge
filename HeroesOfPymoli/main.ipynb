{
 "metadata": {
  "language_info": {
   "codemirror_mode": {
    "name": "ipython",
    "version": 3
   },
   "file_extension": ".py",
   "mimetype": "text/x-python",
   "name": "python",
   "nbconvert_exporter": "python",
   "pygments_lexer": "ipython3",
   "version": "3.8.5-final"
  },
  "orig_nbformat": 2,
  "kernelspec": {
   "name": "python3",
   "display_name": "Python 3",
   "language": "python"
  }
 },
 "nbformat": 4,
 "nbformat_minor": 2,
 "cells": [
  {
   "cell_type": "code",
   "execution_count": 1,
   "metadata": {},
   "outputs": [],
   "source": [
    "# import dependencies\n",
    "import pandas as pd\n",
    "import numpy as np \n",
    "\n",
    "# specify file path\n",
    "filepath = \"/Users/Brianna/Desktop/JHUmaterials/Submissions/pandas-challenge/HeroesOfPymoli/Resources/purchase_data copy.csv\"\n",
    "\n",
    "# read in csv file as dataframe\n",
    "purchase_info = pd.read_csv(filepath)"
   ]
  },
  {
   "cell_type": "code",
   "execution_count": 2,
   "metadata": {},
   "outputs": [
    {
     "output_type": "execute_result",
     "data": {
      "text/plain": [
       "   Purchase ID             SN  Age Gender  Item ID  \\\n",
       "0            0        Lisim78   20   Male      108   \n",
       "1            1    Lisovynya38   40   Male      143   \n",
       "2            2     Ithergue48   24   Male       92   \n",
       "3            3  Chamassasya86   24   Male      100   \n",
       "4            4      Iskosia90   23   Male      131   \n",
       "\n",
       "                                   Item Name  Price  \n",
       "0  Extraction, Quickblade Of Trembling Hands   3.53  \n",
       "1                          Frenzied Scimitar   1.56  \n",
       "2                               Final Critic   4.88  \n",
       "3                                Blindscythe   3.27  \n",
       "4                                       Fury   1.44  "
      ],
      "text/html": "<div>\n<style scoped>\n    .dataframe tbody tr th:only-of-type {\n        vertical-align: middle;\n    }\n\n    .dataframe tbody tr th {\n        vertical-align: top;\n    }\n\n    .dataframe thead th {\n        text-align: right;\n    }\n</style>\n<table border=\"1\" class=\"dataframe\">\n  <thead>\n    <tr style=\"text-align: right;\">\n      <th></th>\n      <th>Purchase ID</th>\n      <th>SN</th>\n      <th>Age</th>\n      <th>Gender</th>\n      <th>Item ID</th>\n      <th>Item Name</th>\n      <th>Price</th>\n    </tr>\n  </thead>\n  <tbody>\n    <tr>\n      <th>0</th>\n      <td>0</td>\n      <td>Lisim78</td>\n      <td>20</td>\n      <td>Male</td>\n      <td>108</td>\n      <td>Extraction, Quickblade Of Trembling Hands</td>\n      <td>3.53</td>\n    </tr>\n    <tr>\n      <th>1</th>\n      <td>1</td>\n      <td>Lisovynya38</td>\n      <td>40</td>\n      <td>Male</td>\n      <td>143</td>\n      <td>Frenzied Scimitar</td>\n      <td>1.56</td>\n    </tr>\n    <tr>\n      <th>2</th>\n      <td>2</td>\n      <td>Ithergue48</td>\n      <td>24</td>\n      <td>Male</td>\n      <td>92</td>\n      <td>Final Critic</td>\n      <td>4.88</td>\n    </tr>\n    <tr>\n      <th>3</th>\n      <td>3</td>\n      <td>Chamassasya86</td>\n      <td>24</td>\n      <td>Male</td>\n      <td>100</td>\n      <td>Blindscythe</td>\n      <td>3.27</td>\n    </tr>\n    <tr>\n      <th>4</th>\n      <td>4</td>\n      <td>Iskosia90</td>\n      <td>23</td>\n      <td>Male</td>\n      <td>131</td>\n      <td>Fury</td>\n      <td>1.44</td>\n    </tr>\n  </tbody>\n</table>\n</div>"
     },
     "metadata": {},
     "execution_count": 2
    }
   ],
   "source": [
    "# get familiar with data and display top 5 rows & all columns\n",
    "purchase_info.head()"
   ]
  },
  {
   "cell_type": "code",
   "execution_count": 3,
   "metadata": {},
   "outputs": [
    {
     "output_type": "execute_result",
     "data": {
      "text/plain": [
       "   Total players\n",
       "0            576"
      ],
      "text/html": "<div>\n<style scoped>\n    .dataframe tbody tr th:only-of-type {\n        vertical-align: middle;\n    }\n\n    .dataframe tbody tr th {\n        vertical-align: top;\n    }\n\n    .dataframe thead th {\n        text-align: right;\n    }\n</style>\n<table border=\"1\" class=\"dataframe\">\n  <thead>\n    <tr style=\"text-align: right;\">\n      <th></th>\n      <th>Total players</th>\n    </tr>\n  </thead>\n  <tbody>\n    <tr>\n      <th>0</th>\n      <td>576</td>\n    </tr>\n  </tbody>\n</table>\n</div>"
     },
     "metadata": {},
     "execution_count": 3
    }
   ],
   "source": [
    "##TOTAL PLAYERS\n",
    "# get total number of unique values listed in \"SN\" for total player amount\n",
    "total_players = len(purchase_info['SN'].unique())\n",
    "total_players\n",
    "# convert to dataframe format and display\n",
    "total_players_df = pd.DataFrame({'Total players' : total_players}, index = [0])\n",
    "total_players_df"
   ]
  },
  {
   "cell_type": "code",
   "execution_count": 4,
   "metadata": {},
   "outputs": [
    {
     "output_type": "execute_result",
     "data": {
      "text/plain": [
       "   No. of Unique Items  Average Price  No. of Purchaces  Total Revenue\n",
       "0                  179       3.050987               780        2379.77"
      ],
      "text/html": "<div>\n<style scoped>\n    .dataframe tbody tr th:only-of-type {\n        vertical-align: middle;\n    }\n\n    .dataframe tbody tr th {\n        vertical-align: top;\n    }\n\n    .dataframe thead th {\n        text-align: right;\n    }\n</style>\n<table border=\"1\" class=\"dataframe\">\n  <thead>\n    <tr style=\"text-align: right;\">\n      <th></th>\n      <th>No. of Unique Items</th>\n      <th>Average Price</th>\n      <th>No. of Purchaces</th>\n      <th>Total Revenue</th>\n    </tr>\n  </thead>\n  <tbody>\n    <tr>\n      <th>0</th>\n      <td>179</td>\n      <td>3.050987</td>\n      <td>780</td>\n      <td>2379.77</td>\n    </tr>\n  </tbody>\n</table>\n</div>"
     },
     "metadata": {},
     "execution_count": 4
    }
   ],
   "source": [
    "##PURCHASE ANALYSIS (TOTAL)\n",
    "# get number of unique items, average purchase price, total number of purchases, total revenue\n",
    "unique_item_id = len(purchase_info['Item ID'].unique())\n",
    "average_price = purchase_info['Price'].mean()\n",
    "total_purchases = purchase_info['Purchase ID'].count()\n",
    "revenue = purchase_info['Price'].sum()\n",
    "\n",
    "purchase_df = pd.DataFrame({\n",
    "                                'No. of Unique Items': unique_item_id, \n",
    "                                'Average Price': average_price, \n",
    "                                'No. of Purchaces':total_purchases, \n",
    "                                'Total Revenue': revenue}, index = [0])\n",
    "purchase_df"
   ]
  },
  {
   "cell_type": "code",
   "execution_count": 5,
   "metadata": {},
   "outputs": [
    {
     "output_type": "execute_result",
     "data": {
      "text/plain": [
       "                       Player Percentage  Gender Totals\n",
       "Gender                                                 \n",
       "Female                         14.062500             81\n",
       "Male                           84.027778            484\n",
       "Other / Non-Disclosed           1.909722             11"
      ],
      "text/html": "<div>\n<style scoped>\n    .dataframe tbody tr th:only-of-type {\n        vertical-align: middle;\n    }\n\n    .dataframe tbody tr th {\n        vertical-align: top;\n    }\n\n    .dataframe thead th {\n        text-align: right;\n    }\n</style>\n<table border=\"1\" class=\"dataframe\">\n  <thead>\n    <tr style=\"text-align: right;\">\n      <th></th>\n      <th>Player Percentage</th>\n      <th>Gender Totals</th>\n    </tr>\n    <tr>\n      <th>Gender</th>\n      <th></th>\n      <th></th>\n    </tr>\n  </thead>\n  <tbody>\n    <tr>\n      <th>Female</th>\n      <td>14.062500</td>\n      <td>81</td>\n    </tr>\n    <tr>\n      <th>Male</th>\n      <td>84.027778</td>\n      <td>484</td>\n    </tr>\n    <tr>\n      <th>Other / Non-Disclosed</th>\n      <td>1.909722</td>\n      <td>11</td>\n    </tr>\n  </tbody>\n</table>\n</div>"
     },
     "metadata": {},
     "execution_count": 5
    }
   ],
   "source": [
    "##GENDER DEMOGRAPHICS\n",
    "# percentage and count of male players, female players, other/non-disclosed\n",
    "# group all players by gender\n",
    "players = purchase_info.groupby('Gender')\n",
    "\n",
    "# filter unique members in each group\n",
    "unique_players = players['SN'].nunique()\n",
    "player_percentage = (unique_players/total_players ) * 100\n",
    "\n",
    "# create dataframe \n",
    "gender_df = pd.DataFrame({\n",
    "                        'Player Percentage': player_percentage,                              'Gender Totals': unique_players})\n",
    "\n",
    "gender_df"
   ]
  },
  {
   "cell_type": "code",
   "execution_count": 17,
   "metadata": {},
   "outputs": [
    {
     "output_type": "execute_result",
     "data": {
      "text/plain": [
       "                       Purchase Count Average Purchase Price  \\\n",
       "Gender                                                         \n",
       "Female                            113                  $3.20   \n",
       "Male                              652                  $3.02   \n",
       "Other / Non-Disclosed              15                  $3.35   \n",
       "\n",
       "                      Total Purchase Value Average Purchase Total Per Person  \n",
       "Gender                                                                        \n",
       "Female                             $361.94                             $4.47  \n",
       "Male                             $1,967.64                             $4.07  \n",
       "Other / Non-Disclosed               $50.19                             $4.56  "
      ],
      "text/html": "<div>\n<style scoped>\n    .dataframe tbody tr th:only-of-type {\n        vertical-align: middle;\n    }\n\n    .dataframe tbody tr th {\n        vertical-align: top;\n    }\n\n    .dataframe thead th {\n        text-align: right;\n    }\n</style>\n<table border=\"1\" class=\"dataframe\">\n  <thead>\n    <tr style=\"text-align: right;\">\n      <th></th>\n      <th>Purchase Count</th>\n      <th>Average Purchase Price</th>\n      <th>Total Purchase Value</th>\n      <th>Average Purchase Total Per Person</th>\n    </tr>\n    <tr>\n      <th>Gender</th>\n      <th></th>\n      <th></th>\n      <th></th>\n      <th></th>\n    </tr>\n  </thead>\n  <tbody>\n    <tr>\n      <th>Female</th>\n      <td>113</td>\n      <td>$3.20</td>\n      <td>$361.94</td>\n      <td>$4.47</td>\n    </tr>\n    <tr>\n      <th>Male</th>\n      <td>652</td>\n      <td>$3.02</td>\n      <td>$1,967.64</td>\n      <td>$4.07</td>\n    </tr>\n    <tr>\n      <th>Other / Non-Disclosed</th>\n      <td>15</td>\n      <td>$3.35</td>\n      <td>$50.19</td>\n      <td>$4.56</td>\n    </tr>\n  </tbody>\n</table>\n</div>"
     },
     "metadata": {},
     "execution_count": 17
    }
   ],
   "source": [
    "##PURCHASE ANALYSIS (GENDER)\n",
    "# use groupby for gender analysis\n",
    "gender_groups = purchase_info.groupby('Gender')\n",
    "\n",
    "# find purchase count, average purchase price, average purchase total (per person)\n",
    "purchase_count = gender_groups['Age'].count()\n",
    "average_purchase_price = gender_groups['Price'].mean()\n",
    "total_purchase_value = gender_groups['Price'].sum()\n",
    "average_per_person = (gender_groups['Price'].sum()/unique_players)\n",
    "\n",
    "# add gender analysis results to new dataframe\n",
    "summary_df = pd.DataFrame({'Purchase Count': purchase_count,\n",
    "                           'Average Purchase Price': average_purchase_price,\n",
    "                           'Total Purchase Value': total_purchase_value,\n",
    "                           'Average Purchase Total Per Person': average_per_person\n",
    "})\n",
    "\n",
    "# clean up formatting, add symbols and specify decimal limits\n",
    "summary_df[\"Average Purchase Price\"] = summary_df[\"Average Purchase Price\"].map(\"${:.2f}\".format)\n",
    "summary_df[\"Total Purchase Value\"]  = summary_df[\"Total Purchase Value\"].map(\"${:,.2f}\".format)\n",
    "summary_df[\"Average Purchase Total Per Person\"] = summary_df[\"Average Purchase Total Per Person\"].map(\"${:.2f}\".format)\n",
    "summary_df.head()"
   ]
  },
  {
   "cell_type": "code",
   "execution_count": 7,
   "metadata": {},
   "outputs": [],
   "source": [
    "##AGE DEMOGRAPHICS\n",
    "# analyze purchase count, average purchase price, total purchase value, and average purchase total  by creating 4 bins that accurately represent the age data\n"
   ]
  },
  {
   "cell_type": "code",
   "execution_count": 8,
   "metadata": {},
   "outputs": [],
   "source": [
    "##TOP SPENDERS\n",
    "# get top 5 spenders through total purchase value\n",
    "# sn, purchase count, average purchase price, total purchase value"
   ]
  },
  {
   "cell_type": "code",
   "execution_count": 9,
   "metadata": {},
   "outputs": [],
   "source": [
    "##MOST POPULAR ITEMS\n",
    "# get top 5 most popular items by purchase count\n",
    "# list item id, item name, purchase count, item price, total purchase value"
   ]
  },
  {
   "cell_type": "code",
   "execution_count": 10,
   "metadata": {},
   "outputs": [],
   "source": [
    "##MOST PROFITABLE ITEMS\n",
    "# get top 5 most profitable items by total purchase value\n",
    "# list item id, item name, purchase count, item price, total purchase value"
   ]
  }
 ]
}